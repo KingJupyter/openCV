{
 "cells": [
  {
   "cell_type": "code",
   "execution_count": 3,
   "metadata": {},
   "outputs": [
    {
     "name": "stdout",
     "output_type": "stream",
     "text": [
      "Before saving image:\n",
      "['.git', 'fof.png', 'geeks14.png', 'image.jpg', 'imshow.ipynb', 'imwrite.ipynb', 'introduction.ipynb', 'reading_image.ipynb']\n",
      "After saving image:\n",
      "['.git', 'fof.png', 'geeks14.png', 'image.jpg', 'imshow.ipynb', 'imwrite.ipynb', 'introduction.ipynb', 'reading_image.ipynb', 'saveImage.jpg']\n",
      "Successfully saved\n"
     ]
    }
   ],
   "source": [
    "import cv2\n",
    "\n",
    "import os\n",
    "\n",
    "image_path = r'D:\\STUDY\\openCV\\image.jpg'\n",
    "\n",
    "directory = r'D:\\STUDY\\openCV'\n",
    "\n",
    "img = cv2.imread(image_path)\n",
    "\n",
    "os.chdir(directory)\n",
    "\n",
    "print(\"Before saving image:\")\n",
    "print(os.listdir(directory))\n",
    "\n",
    "filename = 'saveImage.jpg'\n",
    "\n",
    "cv2.imwrite(filename, img)\n",
    "\n",
    "print(\"After saving image:\")\n",
    "print(os.listdir(directory))\n",
    "\n",
    "print('Successfully saved')"
   ]
  }
 ],
 "metadata": {
  "kernelspec": {
   "display_name": "Python 3",
   "language": "python",
   "name": "python3"
  },
  "language_info": {
   "codemirror_mode": {
    "name": "ipython",
    "version": 3
   },
   "file_extension": ".py",
   "mimetype": "text/x-python",
   "name": "python",
   "nbconvert_exporter": "python",
   "pygments_lexer": "ipython3",
   "version": "3.12.5"
  }
 },
 "nbformat": 4,
 "nbformat_minor": 2
}
