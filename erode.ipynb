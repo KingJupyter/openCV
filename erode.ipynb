{
 "cells": [
  {
   "cell_type": "code",
   "execution_count": 20,
   "metadata": {},
   "outputs": [
    {
     "data": {
      "text/plain": [
       "-1"
      ]
     },
     "execution_count": 20,
     "metadata": {},
     "output_type": "execute_result"
    }
   ],
   "source": [
    "import cv2\n",
    "import numpy as np\n",
    "\n",
    "path = r'image.jpg'\n",
    "\n",
    "image = cv2.imread(path)\n",
    "\n",
    "window_name = 'Image'\n",
    "\n",
    "cv2.imshow(window_name, image)\n",
    "cv2.waitKey(0)\n",
    "kernel = np.ones((1,1),np.uint8)\n",
    "\n",
    "image_p = cv2.erode(image, kernel)\n",
    "\n",
    "cv2.imshow(window_name, image_p)\n",
    "\n",
    "cv2.waitKey(0)\n",
    "kernel = np.ones((4,4),np.uint8)\n",
    "\n",
    "image_p = cv2.erode(image, kernel)\n",
    "\n",
    "cv2.imshow(window_name, image_p)\n",
    "\n",
    "cv2.waitKey(0)\n",
    "kernel = np.ones((8,8),np.uint8)\n",
    "\n",
    "image_p = cv2.erode(image, kernel)\n",
    "\n",
    "cv2.imshow(window_name, image_p)\n",
    "\n",
    "cv2.waitKey(0)\n",
    "\n",
    "kernel = np.ones((1,1), np.uint8)\n",
    "\n",
    "# Applying dilation to the image\n",
    "image_dilated = cv2.dilate(image, kernel)\n",
    "\n",
    "# Displaying the dilated image\n",
    "cv2.imshow(window_name, image_dilated)\n",
    "\n",
    "# Waiting until a key is pressed\n",
    "cv2.waitKey(0)\n",
    "kernel = np.ones((4,4), np.uint8)\n",
    "\n",
    "# Applying dilation to the image\n",
    "image_dilated = cv2.dilate(image, kernel)\n",
    "\n",
    "# Displaying the dilated image\n",
    "cv2.imshow(window_name, image_dilated)\n",
    "\n",
    "# Waiting until a key is pressed\n",
    "cv2.waitKey(0)\n",
    "kernel = np.ones((10,10), np.uint8)\n",
    "\n",
    "# Applying dilation to the image\n",
    "image_dilated = cv2.dilate(image, kernel)\n",
    "\n",
    "# Displaying the dilated image\n",
    "cv2.imshow(window_name, image_dilated)\n",
    "\n",
    "# Waiting until a key is pressed\n",
    "cv2.waitKey(0)"
   ]
  }
 ],
 "metadata": {
  "kernelspec": {
   "display_name": "Python 3",
   "language": "python",
   "name": "python3"
  },
  "language_info": {
   "codemirror_mode": {
    "name": "ipython",
    "version": 3
   },
   "file_extension": ".py",
   "mimetype": "text/x-python",
   "name": "python",
   "nbconvert_exporter": "python",
   "pygments_lexer": "ipython3",
   "version": "3.12.5"
  }
 },
 "nbformat": 4,
 "nbformat_minor": 2
}
