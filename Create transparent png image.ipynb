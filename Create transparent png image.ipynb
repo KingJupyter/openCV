{
 "cells": [
  {
   "cell_type": "code",
   "execution_count": 3,
   "metadata": {},
   "outputs": [],
   "source": [
    "from PIL import Image\n",
    "\n",
    "img = Image.open('image-660x440.png')\n",
    "\n",
    "rgba = img.convert(\"RGBA\")\n",
    "\n",
    "datas = rgba.getdata()\n",
    "\n",
    "newData = [] \n",
    "for item in datas: \n",
    "    if item[0] == 0 and item[1] == 0 and item[2] == 0:  # finding black colour by its RGB value \n",
    "        # storing a transparent value when we find a black colour \n",
    "        newData.append((255, 255, 255, 0)) \n",
    "    else: \n",
    "        newData.append(item)  # other colours remain unchanged \n",
    "  \n",
    "rgba.putdata(newData) \n",
    "rgba.save(\"transparent_image.png\", \"PNG\") \n",
    "rgba.show()"
   ]
  },
  {
   "cell_type": "code",
   "execution_count": 5,
   "metadata": {},
   "outputs": [],
   "source": [
    "from PIL import Image \n",
    "\n",
    "img = Image.open('image-660x440.png') \n",
    "rgba = img.convert(\"RGBA\") \n",
    "datas = rgba.getdata() \n",
    "\n",
    "newData = [] \n",
    "for item in datas: \n",
    "\tif item[0] == 255 and item[1] == 255 and item[2] == 0: # finding yellow colour \n",
    "\t\t# replacing it with a transparent value \n",
    "\t\tnewData.append((255, 255, 255, 0)) \n",
    "\telse: \n",
    "\t\tnewData.append(item) \n",
    "\n",
    "rgba.putdata(newData) \n",
    "rgba.save(\"transparent_image.png\", \"PNG\") \n",
    "rgba.show()"
   ]
  }
 ],
 "metadata": {
  "kernelspec": {
   "display_name": "Python 3",
   "language": "python",
   "name": "python3"
  },
  "language_info": {
   "codemirror_mode": {
    "name": "ipython",
    "version": 3
   },
   "file_extension": ".py",
   "mimetype": "text/x-python",
   "name": "python",
   "nbconvert_exporter": "python",
   "pygments_lexer": "ipython3",
   "version": "undefined.undefined.undefined"
  }
 },
 "nbformat": 4,
 "nbformat_minor": 2
}
