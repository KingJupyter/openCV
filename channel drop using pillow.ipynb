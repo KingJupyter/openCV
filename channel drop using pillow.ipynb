{
 "cells": [
  {
   "cell_type": "code",
   "execution_count": 1,
   "metadata": {},
   "outputs": [
    {
     "name": "stdout",
     "output_type": "stream",
     "text": [
      "Defaulting to user installation because normal site-packages is not writeable\n",
      "Requirement already satisfied: pillow in c:\\users\\s\\appdata\\roaming\\python\\python312\\site-packages (10.4.0)\n",
      "Defaulting to user installation because normal site-packages is not writeable\n",
      "Requirement already satisfied: numpy in c:\\users\\s\\appdata\\roaming\\python\\python312\\site-packages (1.26.4)\n"
     ]
    }
   ],
   "source": [
    "!pip install pillow\n",
    "!pip install numpy"
   ]
  },
  {
   "cell_type": "code",
   "execution_count": 4,
   "metadata": {},
   "outputs": [],
   "source": [
    "from PIL import Image\n",
    "\n",
    "img = Image.open(r'sample7.jpg')\n",
    "\n",
    "matrix = (1,0,0,0,\n",
    "          0,1,0,0,\n",
    "          0,0,1,0)\n",
    "\n",
    "img = img.convert(\"RGB\", matrix)\n",
    "\n",
    "img.show()"
   ]
  },
  {
   "cell_type": "code",
   "execution_count": 15,
   "metadata": {},
   "outputs": [],
   "source": [
    "from PIL import Image\n",
    "import numpy as np\n",
    "\n",
    "# Opening the test image and saving its object\n",
    "img = Image.open(r'sample7.jpg')\n",
    "\n",
    "# Creating an array out of pixel values of the image\n",
    "img_arr = np.array(img, np.uint8)\n",
    "\n",
    "# Setting the value of every pixel in the 3rd channel to 0\n",
    "# Change the 2 to 1 if wanting to drop the green channel \n",
    "# Change the 2 to 0 if wanting to drop the red channel\n",
    "img_arr[::, ::, 0] = 0\n",
    "\n",
    "# Creating an image from the modified array\n",
    "img = Image.fromarray(img_arr)\n",
    "\n",
    "# Displaying the image\n",
    "img.show()\n"
   ]
  }
 ],
 "metadata": {
  "kernelspec": {
   "display_name": "Python 3",
   "language": "python",
   "name": "python3"
  },
  "language_info": {
   "codemirror_mode": {
    "name": "ipython",
    "version": 3
   },
   "file_extension": ".py",
   "mimetype": "text/x-python",
   "name": "python",
   "nbconvert_exporter": "python",
   "pygments_lexer": "ipython3",
   "version": "undefined.undefined.undefined"
  }
 },
 "nbformat": 4,
 "nbformat_minor": 2
}
