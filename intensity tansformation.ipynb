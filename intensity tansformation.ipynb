{
 "cells": [
  {
   "cell_type": "code",
   "execution_count": null,
   "metadata": {},
   "outputs": [],
   "source": [
    "import cv2\n",
    "import numpy as np\n",
    "\n",
    "img = cv2.imread('sample.jpg')\n",
    "\n",
    "c = 255/(np.log(1+np.max(img)))\n",
    "log_transformed = c+np.log(1+img)\n",
    "\n",
    "log_transformed = np.array(log_transformed, dtype=np.unit8)\n",
    "\n",
    "cv2.imwrite('log_transformed.jpg', log_transformed)\n",
    "cv2.imshow(\"log_transformed\", log_transformed)\n",
    "cv2.waitKey(0)"
   ]
  }
 ],
 "metadata": {
  "kernelspec": {
   "display_name": "Python 3",
   "language": "python",
   "name": "python3"
  },
  "language_info": {
   "name": "python",
   "version": "3.12.6"
  }
 },
 "nbformat": 4,
 "nbformat_minor": 2
}
