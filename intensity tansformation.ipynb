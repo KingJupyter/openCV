{
 "cells": [
  {
   "cell_type": "code",
   "execution_count": 4,
   "metadata": {},
   "outputs": [
    {
     "data": {
      "text/plain": [
       "-1"
      ]
     },
     "execution_count": 4,
     "metadata": {},
     "output_type": "execute_result"
    }
   ],
   "source": [
    "import cv2\n",
    "import numpy as np\n",
    "\n",
    "img = cv2.imread('sample.jpg')\n",
    "cv2.imshow(\"img\", img)\n",
    "cv2.waitKey(0)\n",
    "c = 255/(np.log(1+np.max(img)))\n",
    "log_transformed = c+np.log(1+img)\n",
    "\n",
    "log_transformed = np.array(log_transformed, dtype=np.uint8)\n",
    "\n",
    "cv2.imwrite('log_transformed.jpg', log_transformed)\n",
    "cv2.imshow(\"log_transformed\", log_transformed)\n",
    "cv2.waitKey(0)"
   ]
  },
  {
   "cell_type": "code",
   "execution_count": 8,
   "metadata": {},
   "outputs": [
    {
     "data": {
      "text/plain": [
       "-1"
      ]
     },
     "execution_count": 8,
     "metadata": {},
     "output_type": "execute_result"
    }
   ],
   "source": [
    "import cv2 \n",
    "import numpy as np \n",
    "\n",
    "# Open the image. \n",
    "img = cv2.imread('sample.jpg') \n",
    "\n",
    "# Trying 4 gamma values. \n",
    "for gamma in [0.1, 0.5, 1.2, 2.2]: \n",
    "\t\n",
    "\t# Apply gamma correction. \n",
    "\tgamma_corrected = np.array(255*(img / 255) ** gamma, dtype = 'uint8') \n",
    "\n",
    "\t# Save edited images. \n",
    "\tcv2.imwrite('gamma_transformed'+str(gamma)+'.jpg', gamma_corrected) \n",
    "\n",
    "cv2.imshow(\"log_transformed\", gamma_corrected)\n",
    "cv2.waitKey(0)"
   ]
  },
  {
   "cell_type": "code",
   "execution_count": 10,
   "metadata": {},
   "outputs": [
    {
     "data": {
      "text/plain": [
       "-1"
      ]
     },
     "execution_count": 10,
     "metadata": {},
     "output_type": "execute_result"
    }
   ],
   "source": [
    "import cv2 \n",
    "import numpy as np \n",
    "\n",
    "# Function to map each intensity level to output intensity level. \n",
    "def pixelVal(pix, r1, s1, r2, s2): \n",
    "\tif (0 <= pix and pix <= r1): \n",
    "\t\treturn (s1 / r1)*pix \n",
    "\telif (r1 < pix and pix <= r2): \n",
    "\t\treturn ((s2 - s1)/(r2 - r1)) * (pix - r1) + s1 \n",
    "\telse: \n",
    "\t\treturn ((255 - s2)/(255 - r2)) * (pix - r2) + s2 \n",
    "\n",
    "# Open the image. \n",
    "img = cv2.imread('sample.jpg') \n",
    "\n",
    "# Define parameters. \n",
    "r1 = 70\n",
    "s1 = 0\n",
    "r2 = 140\n",
    "s2 = 255\n",
    "\n",
    "# Vectorize the function to apply it to each value in the Numpy array. \n",
    "pixelVal_vec = np.vectorize(pixelVal) \n",
    "\n",
    "# Apply contrast stretching. \n",
    "contrast_stretched = pixelVal_vec(img, r1, s1, r2, s2) \n",
    "\n",
    "# Save edited image. \n",
    "cv2.imwrite('contrast_stretch.jpg', contrast_stretched) \n",
    "cv2.imshow('contrast_stretch.jpg', contrast_stretched)\n",
    "cv2.waitKey(0)"
   ]
  }
 ],
 "metadata": {
  "kernelspec": {
   "display_name": "Python 3",
   "language": "python",
   "name": "python3"
  },
  "language_info": {
   "codemirror_mode": {
    "name": "ipython",
    "version": 3
   },
   "file_extension": ".py",
   "mimetype": "text/x-python",
   "name": "python",
   "nbconvert_exporter": "python",
   "pygments_lexer": "ipython3",
   "version": "3.12.5"
  }
 },
 "nbformat": 4,
 "nbformat_minor": 2
}
