{
 "cells": [
  {
   "cell_type": "code",
   "execution_count": 1,
   "metadata": {},
   "outputs": [
    {
     "name": "stdout",
     "output_type": "stream",
     "text": [
      "Defaulting to user installation because normal site-packages is not writeable\n",
      "Requirement already satisfied: pillow in c:\\users\\s\\appdata\\roaming\\python\\python312\\site-packages (10.4.0)\n"
     ]
    }
   ],
   "source": [
    "!pip install pillow"
   ]
  },
  {
   "cell_type": "code",
   "execution_count": 3,
   "metadata": {},
   "outputs": [],
   "source": [
    "from PIL import Image, ImageFilter\n",
    "\n",
    "image=Image.open(r'photo.jpg')\n",
    "\n",
    "image=image.convert(\"L\")\n",
    "\n",
    "image=image.filter(ImageFilter.FIND_EDGES)\n",
    "\n",
    "image.save(r'Edge_sample.png')\n",
    "\n",
    "image.show()"
   ]
  },
  {
   "cell_type": "code",
   "execution_count": 5,
   "metadata": {},
   "outputs": [],
   "source": [
    "from PIL import Image, ImageFilter\n",
    "\n",
    "img = Image.open(r\"photo.jpg\")\n",
    "\n",
    "# Converting the image to grayscale, as Sobel Operator requires\n",
    "# input image to be of mode Grayscale (L)\n",
    "img = img.convert(\"L\")\n",
    "\n",
    "# Calculating Edges using the passed laplacian Kernel\n",
    "final = img.filter(ImageFilter.Kernel((3, 3), (-1, -1, -1, -1, 8,\n",
    "\t\t\t\t\t\t\t\t\t\t-1, -1, -1, -1), 1, 0))\n",
    "\n",
    "final.save(\"EDGE_sample.png\")\n",
    "\n",
    "final.show()"
   ]
  }
 ],
 "metadata": {
  "kernelspec": {
   "display_name": "Python 3",
   "language": "python",
   "name": "python3"
  },
  "language_info": {
   "codemirror_mode": {
    "name": "ipython",
    "version": 3
   },
   "file_extension": ".py",
   "mimetype": "text/x-python",
   "name": "python",
   "nbconvert_exporter": "python",
   "pygments_lexer": "ipython3",
   "version": "undefined.undefined.undefined"
  }
 },
 "nbformat": 4,
 "nbformat_minor": 2
}
