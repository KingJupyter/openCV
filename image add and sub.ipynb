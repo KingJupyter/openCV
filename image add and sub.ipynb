{
 "cells": [
  {
   "cell_type": "code",
   "execution_count": 3,
   "metadata": {},
   "outputs": [
    {
     "data": {
      "text/plain": [
       "-1"
      ]
     },
     "execution_count": 3,
     "metadata": {},
     "output_type": "execute_result"
    }
   ],
   "source": [
    "import cv2\n",
    "import numpy as np\n",
    "\n",
    "image1 = cv2.imread('input1.jpg')\n",
    "image2 = cv2.imread('input2.jpg')\n",
    "\n",
    "weithtedSum = cv2.addWeighted(image1, 0.5, image2, 0.5, 0)\n",
    "\n",
    "cv2.imshow(\"Weighted Image\", weithtedSum)\n",
    "\n",
    "if cv2.waitKey(0) & 0xff == 27:  \n",
    "    cv2.destroyAllWindows()  \n",
    "\n",
    "sub = cv2.subtract(image1, image2)\n",
    "\n",
    "cv2.imshow('Subtracted Image', sub)\n",
    "cv2.waitKey(0)"
   ]
  }
 ],
 "metadata": {
  "kernelspec": {
   "display_name": "Python 3",
   "language": "python",
   "name": "python3"
  },
  "language_info": {
   "codemirror_mode": {
    "name": "ipython",
    "version": 3
   },
   "file_extension": ".py",
   "mimetype": "text/x-python",
   "name": "python",
   "nbconvert_exporter": "python",
   "pygments_lexer": "ipython3",
   "version": "3.12.5"
  }
 },
 "nbformat": 4,
 "nbformat_minor": 2
}
