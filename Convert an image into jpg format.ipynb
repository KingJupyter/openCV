{
 "cells": [
  {
   "cell_type": "code",
   "execution_count": 1,
   "metadata": {},
   "outputs": [
    {
     "name": "stdout",
     "output_type": "stream",
     "text": [
      "The size of the image before conversation : 26617\n",
      "The size of the image after conversion : 18118\n"
     ]
    }
   ],
   "source": [
    "from PIL import Image\n",
    "import os\n",
    "\n",
    "im = Image.open('geeksforgeeks55.png')\n",
    "print(\"The size of the image before conversation : \", end = \"\")\n",
    "print(os.path.getsize(\"geeksforgeeks55.png\"))\n",
    "\n",
    "rgb_im = im.convert(\"RGB\")\n",
    "\n",
    "rgb_im.save(\"geeksforgeeks.jpg\")\n",
    "print(\"The size of the image after conversion : \", end = \"\") \n",
    "print(os.path.getsize(\"geeksforgeeks.jpg\"))"
   ]
  }
 ],
 "metadata": {
  "kernelspec": {
   "display_name": "Python 3",
   "language": "python",
   "name": "python3"
  },
  "language_info": {
   "codemirror_mode": {
    "name": "ipython",
    "version": 3
   },
   "file_extension": ".py",
   "mimetype": "text/x-python",
   "name": "python",
   "nbconvert_exporter": "python",
   "pygments_lexer": "ipython3",
   "version": "undefined.undefined.undefined"
  }
 },
 "nbformat": 4,
 "nbformat_minor": 2
}
