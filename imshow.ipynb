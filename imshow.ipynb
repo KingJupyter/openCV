{
 "cells": [
  {
   "cell_type": "code",
   "execution_count": 1,
   "metadata": {},
   "outputs": [],
   "source": [
    "import cv2\n",
    "\n",
    "path = r'geeks14.png'\n",
    "\n",
    "image = cv2.imread(path)\n",
    "\n",
    "window_name = 'image'\n",
    "\n",
    "cv2.imshow(window_name, image)\n",
    "\n",
    "cv2.waitKey(0)\n",
    "\n",
    "cv2.destroyAllWindows()"
   ]
  },
  {
   "cell_type": "code",
   "execution_count": 4,
   "metadata": {},
   "outputs": [
    {
     "data": {
      "text/plain": [
       "True"
      ]
     },
     "execution_count": 4,
     "metadata": {},
     "output_type": "execute_result"
    }
   ],
   "source": [
    "import cv2\n",
    "\n",
    "path = r'geeks14.png'\n",
    "\n",
    "image = cv2.imread(path, 0)\n",
    "\n",
    "window_name = 'image'\n",
    "\n",
    "cv2.imshow(window_name, image)\n",
    "\n",
    "key = cv2.waitKey(0)  # Wait indefinitely for a key press\n",
    "if key == ord('q'):\n",
    "    print(\"Q key pressed\")\n",
    "\n",
    "cv2.destroyAllWindows()\n",
    "\n",
    "cv2.imwrite('fof.png', image)"
   ]
  },
  {
   "cell_type": "code",
   "execution_count": 6,
   "metadata": {},
   "outputs": [],
   "source": [
    "import cv2\n",
    "\n",
    "# Load images\n",
    "image1 = cv2.imread('image.jpg')\n",
    "image2 = cv2.imread('geeks14.png')\n",
    "\n",
    "# Display images in different windows\n",
    "cv2.imshow('Image 1', image1)\n",
    "cv2.imshow('Image 2', image2)\n",
    "\n",
    "cv2.waitKey(0)  # Wait for a key press\n",
    "cv2.destroyAllWindows()  # Close all OpenCV windows"
   ]
  }
 ],
 "metadata": {
  "kernelspec": {
   "display_name": "Python 3",
   "language": "python",
   "name": "python3"
  },
  "language_info": {
   "codemirror_mode": {
    "name": "ipython",
    "version": 3
   },
   "file_extension": ".py",
   "mimetype": "text/x-python",
   "name": "python",
   "nbconvert_exporter": "python",
   "pygments_lexer": "ipython3",
   "version": "3.12.5"
  }
 },
 "nbformat": 4,
 "nbformat_minor": 2
}
