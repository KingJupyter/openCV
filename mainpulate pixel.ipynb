{
 "cells": [
  {
   "cell_type": "code",
   "execution_count": 2,
   "metadata": {},
   "outputs": [],
   "source": [
    "from PIL import Image\n",
    "\n",
    "input_image = Image.open('gfg.png')\n",
    "\n",
    "pixel_map = input_image.load()\n",
    "\n",
    "width, height = input_image.size\n",
    "\n",
    "for i in range(width//2):\n",
    "    for j in range(height):\n",
    "\n",
    "        r,g,b,p=input_image.getpixel((i,j))\n",
    "\n",
    "        grayscale = (0.299*r + 0.587*g + 0.114*b) \n",
    "\n",
    "        pixel_map[i, j] = (int(grayscale), int(grayscale), int(grayscale)) \n",
    "\n",
    "input_image.save(\"grayscale\", format='png')\n",
    "\n",
    "input_image.show()"
   ]
  },
  {
   "cell_type": "code",
   "execution_count": 4,
   "metadata": {},
   "outputs": [],
   "source": [
    "from PIL import Image \n",
    "\n",
    "# Create an image as input: \n",
    "input_image = Image.new(mode=\"RGB\", size=(400, 400), \n",
    "\t\t\t\t\t\tcolor=\"blue\") \n",
    "\n",
    "# save the image as \"input.png\" \n",
    "#(not mandatory) \n",
    "input_image.save(\"input\", format=\"png\") \n",
    "\n",
    "# Extracting pixel map: \n",
    "pixel_map = input_image.load() \n",
    "\n",
    "# Extracting the width and height \n",
    "# of the image: \n",
    "width, height = input_image.size \n",
    "z = 100\n",
    "for i in range(width): \n",
    "\tfor j in range(height): \n",
    "\t\t\n",
    "\t\t# the following if part will create \n",
    "\t\t# a square with color orange \n",
    "\t\tif((i >= z and i <= width-z) and (j >= z and j <= height-z)): \n",
    "\t\t\t\n",
    "\t\t\t# RGB value of orange. \n",
    "\t\t\tpixel_map[i, j] = (255, 165, 0) \n",
    "\n",
    "\t\t# the following else part will fill the \n",
    "\t\t# rest part with color light salmon. \n",
    "\t\telse: \n",
    "\t\t\t\n",
    "\t\t\t# RGB value of light salmon. \n",
    "\t\t\tpixel_map[i, j] = (255, 160, 122) \n",
    "\n",
    "# The following loop will create a cross \n",
    "# of color blue. \n",
    "for i in range(width): \n",
    "\t\n",
    "\t# RGB value of Blue. \n",
    "\tpixel_map[i, i] = (0, 0, 255) \n",
    "\tpixel_map[i, width-i-1] = (0, 0, 255) \n",
    "\n",
    "# Saving the final output \n",
    "# as \"output.png\": \n",
    "input_image.save(\"output\", format=\"png\") \n",
    "input_image.show()\n",
    "# use input_image.show() to see the image on the \n",
    "# output screen. \n"
   ]
  }
 ],
 "metadata": {
  "kernelspec": {
   "display_name": "Python 3",
   "language": "python",
   "name": "python3"
  },
  "language_info": {
   "codemirror_mode": {
    "name": "ipython",
    "version": 3
   },
   "file_extension": ".py",
   "mimetype": "text/x-python",
   "name": "python",
   "nbconvert_exporter": "python",
   "pygments_lexer": "ipython3",
   "version": "undefined.undefined.undefined"
  }
 },
 "nbformat": 4,
 "nbformat_minor": 2
}
